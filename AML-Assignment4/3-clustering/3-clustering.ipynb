{
 "cells": [
  {
   "cell_type": "code",
   "execution_count": 6,
   "metadata": {},
   "outputs": [],
   "source": [
    "import numpy as np\n",
    "import pandas as pd\n",
    "import matplotlib.pyplot as plt"
   ]
  },
  {
   "cell_type": "code",
   "execution_count": 7,
   "metadata": {},
   "outputs": [],
   "source": [
    "# For dataset1.txt\n",
    "data1 = np.genfromtxt('dataset1.txt',deletechars=',')"
   ]
  },
  {
   "cell_type": "code",
   "execution_count": 16,
   "metadata": {},
   "outputs": [],
   "source": [
    "from sklearn.cluster import KMeans\n",
    "\n",
    "sum_of_squared_error = []\n",
    "for k in range(1, 20):\n",
    "    kMeans = KMeans(n_clusters = k ,random_state = 0)\n",
    "    kMeans.fit(data1)\n",
    "    sum_of_squared_error.append(kMeans.inertia_)\n",
    "\n",
    "x_labels = [x for x in range(1, 20)]\n",
    "plt.figure(num=None, figsize=(12, 7), dpi=90, facecolor='w', edgecolor='k')\n",
    "plt.title(\"Sum of squared error for various k\");\n",
    "plt.plot(x_labels, sum_of_squared_error, color='#32CD32', marker='+')\n",
    "plt.xlabel(\"k\")\n",
    "plt.ylabel(\"SSE value\")\n",
    "plt.savefig(\"elbow-curve.png\", bbox_inches='tight')\n",
    "plt.close()"
   ]
  },
  {
   "cell_type": "code",
   "execution_count": 18,
   "metadata": {},
   "outputs": [],
   "source": [
    "# As we can see from the elbow curve, the optimal k is 6\n",
    "kMeans = KMeans(n_clusters = 6,random_state = 0)\n",
    "kMeans.fit(data1)\n",
    "labels1 = kMeans.labels_\n",
    "kMean_centres = kMeans.cluster_centers_"
   ]
  },
  {
   "cell_type": "code",
   "execution_count": 21,
   "metadata": {},
   "outputs": [],
   "source": [
    "plt.figure(num=None, figsize=(12, 7), dpi=90, facecolor='w', edgecolor='k')\n",
    "plt.xlabel('x')\n",
    "plt.ylabel('y')\n",
    "\n",
    "plt.scatter(data1[:,0], data1[:,1], s=50, c=labels1)\n",
    "\n",
    "plt.scatter(kMean_centres[:, 0], kMean_centres[:, 1], s=50, c='red', marker='D')\n",
    "\n",
    "plt.savefig(\"kMeans-dataset1.png\", bbox_inches='tight')\n",
    "plt.close()"
   ]
  },
  {
   "cell_type": "code",
   "execution_count": 22,
   "metadata": {},
   "outputs": [],
   "source": [
    "def scan_for_each_point(data, ind, eps):\n",
    "    pts = []\n",
    "    for count, elem in enumerate(data):\n",
    "        if np.linalg.norm(data[ind] - elem) < eps:\n",
    "            pts.append(count)\n",
    "    return pts\n",
    "\n",
    "def scan_for_cluster(data, n, ind, min_pts, eps, labels, id):\n",
    "    for elem in n:\n",
    "        if labels[elem] == 0:\n",
    "            labels[elem] = id\n",
    "            next_n = scan_for_each_point(data, elem, eps)\n",
    "            if min_pts <= len(next_n):\n",
    "                n += next_n\n",
    "        elif labels[elem] == -1:\n",
    "            labels[elem] = id\n",
    "\n",
    "def my_dbscan(data, eps, min_pts):\n",
    "    id = 0\n",
    "    labels = [0]*len(data)\n",
    "    for count, elem in enumerate(data):\n",
    "        if labels[count] == 0:\n",
    "            n = scan_for_each_point(data, count, eps)\n",
    "            if min_pts <= len(n):\n",
    "                id = id + 1\n",
    "                labels[count] = id\n",
    "                scan_for_cluster(data, n, count, min_pts, eps, labels, id)\n",
    "            else:\n",
    "                labels[count] = -1\n",
    "    return labels"
   ]
  },
  {
   "cell_type": "code",
   "execution_count": 23,
   "metadata": {},
   "outputs": [
    {
     "name": "stdout",
     "output_type": "stream",
     "text": [
      "[1, 2, 1, 2, 1, 1, 2, 2, 2, 1, 1, 1, 2, 1, 2, 2, 2, 1, 2, 2, 1, 2, 2, 1, 1, 2, 2, 1, 1, 2, 2, 2, 1, 1, 1, 1, 1, 2, 1, 1, 2, 1, 1, 2, 1, 2, 1, 2, 2, 2, 1, 2, 2, 1, 1, 2, 2, 2, 2, 2, 2, 1, 2, 2, 1, 2, 2, 1, 1, 2, 2, 1, 1, 1, 2, 2, 2, 1, 1, 2, 1, 2, 1, 2, 1, 1, 2, 1, 1, 2, 1, 1, 2, 2, 1, 1, 1, 2, 1, 1, 1, 1, 2, 1, 1, 2, 1, 1, 1, 2, 1, 2, 2, 2, 2, 2, 2, 1, 2, 1, 1, 1, 1, 1, 2, 1, 1, 2, 2, 2, 2, 2, 2, 2, 1, 1, 2, 2, 1, 2, 1, 2, 2, 2, 1, 1, 1, 1, 2, 1, 2, 1, 1, 1, 2, 2, 1, 1, 1, 2, 1, 2, 1, 1, 2, 2, 2, 1, 2, 2, 2, 2, 1, 1, 2, 2, 1, 1, 1, 1, 1, 1, 2, 1, 1, 1, 1, 2, 2, 2, 2, 1, 2, 1, 1, 2, 2, 2, 2, 2, 2, 2, 1, 1, 1, 2, 2, 2, 1, 2, 2, 2, 1, 1, 1, 2, 2, 1, 2, 2, 2, 1, 2, 1, 1, 1, 1, 2, 1, 1, 1, 1, 1, 2, 1, 1, 2, 1, 1, 2, 1, 2, 2, 2, 1, 1, 1, 2, 1, 2, 1, 2, 1, 2, 2, 1, 1, 1, 2, 2, 1, 1, 1, 2, 2, 1, 1, 1, 1, 2, 1, 1, 2, 2, 2, 2, 1, 1, 1, 2, 1, 2, 1, 2, 1, 2, 1, 1, 1, 2, 1, 1, 2, 2, 1, 2, 2, 1, 2, 2, 1, 1, 2, 2, 1, 2, 2, 1, 2, 1, 2, 2, 2, 1, 2, 2, 1, 1, 1, 2, 2, 1, 1, 2, 1, 2, 1, 2, 2, 1, 1, 2, 2, 1, 2, 2, 1, 2, 1, 1, 1, 2, 2, 2, 2, 2, 1, 1, 1, 2, 1, 2, 1, 2, 2, 1, 1, 2, 1, 2, 1, 2, 2, 2, 1, 2, 2, 1, 2, 1, 2, 2, 2, 2, 2, 1, 1, 2, 2, 2, 1, 2, 1, 2, 1, 1, 1, 1, 2, 1, 2, 1, 2, 1, 1, 2, 1, 1, 1, 1, 1, 2, 1, 2, 1, 2, 1, 1, 1, 1, 1, 2, 1, 1, 1, 1, 1, 2, 2, 1, 2, 2, 2, 1, 2, 1, 1, 1, 1, 1, 2, 2, 1, 1, 2, 2, 2, 2, 2, 1, 2, 2, 1, 2, 2, 1, 1, 1, 2, 1, 2, 2, 1, 2, 2, 1, 2, 2, 2, 1, 1, 2, 2, 2, 2, 1, 2, 2, 2, 1, 2, 1, 2, 1, 1, 1, 2, 2, 1, 2, 2, 2, 1, 1, 1, 1, 2, 2, 1, 1, 1, 2, 2, 2, 2, 1, 2, 1, 2, 2]\n"
     ]
    }
   ],
   "source": [
    "labels1 = my_dbscan(data1, 0.3, 10)\n",
    "print labels1"
   ]
  },
  {
   "cell_type": "code",
   "execution_count": 24,
   "metadata": {},
   "outputs": [],
   "source": [
    "plt.figure(num=None, figsize=(12, 7), dpi=90, facecolor='w', edgecolor='k')\n",
    "plt.xlabel('x')\n",
    "plt.ylabel('y')\n",
    "\n",
    "plt.scatter(data1[:, 0], data1[:, 1], s=50, c=labels1)\n",
    "\n",
    "plt.savefig(\"dbscan-dataset1.png\", bbox_inches='tight')\n",
    "plt.close()"
   ]
  },
  {
   "cell_type": "code",
   "execution_count": 25,
   "metadata": {},
   "outputs": [],
   "source": [
    "# For dataset2.txt\n",
    "data2 = np.genfromtxt('dataset2.txt',deletechars=',')"
   ]
  },
  {
   "cell_type": "code",
   "execution_count": 26,
   "metadata": {},
   "outputs": [],
   "source": [
    "kMeans = KMeans(n_clusters = 3, random_state = 0)\n",
    "kMeans.fit(data2)\n",
    "labels2 = kMeans.labels_"
   ]
  },
  {
   "cell_type": "code",
   "execution_count": 28,
   "metadata": {},
   "outputs": [],
   "source": [
    "kMean_centres = kMeans.cluster_centers_"
   ]
  },
  {
   "cell_type": "code",
   "execution_count": 30,
   "metadata": {},
   "outputs": [],
   "source": [
    "plt.figure(num=None, figsize=(12, 7), dpi=90)\n",
    "plt.xlabel('x')\n",
    "plt.ylabel('y')\n",
    "\n",
    "plt.scatter(data2[:, 0], data2[:, 1], s=50, c=labels2)\n",
    "\n",
    "plt.scatter(kMean_centres[:, 0], kMean_centres[:, 1], s=50, c='red')\n",
    "\n",
    "plt.savefig(\"kMeans-dataset2.png\", bbox_inches='tight')\n",
    "plt.close()"
   ]
  },
  {
   "cell_type": "code",
   "execution_count": 31,
   "metadata": {},
   "outputs": [
    {
     "name": "stdout",
     "output_type": "stream",
     "text": [
      "[1, -1, -1, 2, -1, -1, -1, -1, -1, -1, 3, -1, 2, -1, -1, -1, -1, -1, 6, -1, -1, -1, -1, -1, -1, -1, -1, -1, -1, -1, -1, -1, 2, -1, -1, -1, -1, 1, -1, 1, -1, -1, -1, 5, 5, -1, 3, -1, -1, -1, -1, -1, -1, -1, -1, -1, 6, -1, 2, -1, -1, 3, -1, -1, -1, -1, -1, -1, -1, -1, -1, 1, -1, -1, -1, -1, -1, -1, -1, -1, -1, -1, -1, -1, 3, -1, -1, -1, 3, -1, -1, -1, -1, -1, -1, -1, -1, -1, -1, -1, -1, -1, -1, 2, -1, -1, 1, -1, -1, 1, -1, -1, -1, -1, -1, -1, -1, -1, 1, -1, 5, -1, -1, -1, -1, -1, -1, -1, -1, 2, -1, -1, -1, -1, -1, -1, -1, -1, -1, -1, -1, -1, -1, -1, -1, -1, -1, -1, -1, -1, -1, 5, 1, -1, -1, 1, -1, -1, -1, -1, -1, 4, -1, -1, -1, -1, -1, 5, 1, -1, -1, -1, 4, -1, -1, -1, 6, 5, 3, -1, -1, -1, 1, -1, 3, -1, -1, -1, 5, -1, -1, 2, -1, 6, -1, 3, -1, -1, -1, -1, -1, -1, 6, 3, -1, -1, -1, -1, -1, 2, 4, -1, -1, -1, -1, 6, -1, -1, 1, -1, -1, -1, -1, 2, -1, -1, -1, -1, -1, -1, -1, -1, -1, -1, -1, 5, -1, 1, -1, -1, -1, -1, 3, -1, -1, -1, -1, -1, -1, 4, 3, -1, -1, -1, -1, -1, -1, -1, -1, -1, -1, -1, -1, 5, 6, -1, -1, 1, 1, -1, -1, -1, -1, -1, -1, -1, -1, -1, -1, 4, -1, 1, -1, -1, -1, -1, -1, -1, 2, 1, -1, -1, -1, -1, -1, -1, -1, -1, -1, -1, -1, -1, 1, -1, -1, 1, -1, -1, -1, 4, -1, -1, -1, -1, -1, -1, 1, -1, -1, 2, -1, 2, -1, 3, -1, -1, -1, -1, -1, 3, -1, -1, 1, -1, -1, -1, -1, -1, -1, -1, -1, -1, -1, 3, -1, -1, -1, -1, -1, -1, -1, -1, 3, -1, -1, -1, 3, -1, -1, -1, -1, -1, -1, -1, -1, 1, -1, -1, -1, -1, -1, -1, -1, -1, 6, -1, 1, -1, -1, -1, -1, -1, -1, -1, -1, -1, -1, -1, -1, -1, -1, -1, -1, 4, 3, -1, 1, -1, -1, -1, -1, -1, -1, -1, 6, -1, -1, -1, -1, -1, -1, -1, -1, 5, -1, -1, -1, -1, -1, 5, 5, -1, -1, -1, -1, -1, 4, -1, -1, -1, 3, -1, -1, -1, 1, -1, -1, -1, 5, -1, -1, -1, -1, -1, -1, -1, -1, -1, -1, -1, -1, -1, -1, 6, 5, -1, -1, -1, 6, -1, -1, -1, -1, -1, -1, 1, -1, -1, 5, -1, -1, -1, -1, -1, 3, -1, -1, -1, -1, 4, -1, -1, -1, -1, 2, 4, 2, 5, -1, -1, -1, -1, -1, 6, -1, -1, -1, -1, -1, -1]\n"
     ]
    }
   ],
   "source": [
    "labels2 = my_dbscan(data2, 0.3, 10)\n",
    "print labels2"
   ]
  },
  {
   "cell_type": "code",
   "execution_count": 32,
   "metadata": {},
   "outputs": [],
   "source": [
    "plt.figure(num=None, figsize=(12, 7), dpi=90, facecolor='w', edgecolor='k')\n",
    "plt.xlabel('x')\n",
    "plt.ylabel('y')\n",
    "\n",
    "plt.scatter(data2[:, 0], data2[:, 1], s=50, c=labels2)\n",
    "\n",
    "plt.savefig(\"dbscan-dataset2.png\", bbox_inches='tight')\n",
    "plt.close()"
   ]
  },
  {
   "cell_type": "code",
   "execution_count": null,
   "metadata": {},
   "outputs": [],
   "source": []
  }
 ],
 "metadata": {
  "kernelspec": {
   "display_name": "Python 2",
   "language": "python",
   "name": "python2"
  },
  "language_info": {
   "codemirror_mode": {
    "name": "ipython",
    "version": 2
   },
   "file_extension": ".py",
   "mimetype": "text/x-python",
   "name": "python",
   "nbconvert_exporter": "python",
   "pygments_lexer": "ipython2",
   "version": "2.7.15+"
  }
 },
 "nbformat": 4,
 "nbformat_minor": 2
}
